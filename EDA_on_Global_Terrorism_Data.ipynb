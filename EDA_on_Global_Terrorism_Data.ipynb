{
  "nbformat": 4,
  "nbformat_minor": 0,
  "metadata": {
    "colab": {
      "private_outputs": true,
      "provenance": []
    },
    "kernelspec": {
      "name": "python3",
      "display_name": "Python 3"
    },
    "language_info": {
      "name": "python"
    }
  },
  "cells": [
    {
      "cell_type": "markdown",
      "source": [
        "# **Project Name - EDA on Global Terrorism**\n",
        "\n"
      ],
      "metadata": {
        "id": "vncDsAP0Gaoa"
      }
    },
    {
      "cell_type": "markdown",
      "source": [
        "##### **Project Type**    - EDA\n",
        "##### **Contribution**    - Individual\n",
        "##### **Author**    - Allan Cheerakunnil Alex"
      ],
      "metadata": {
        "id": "beRrZCGUAJYm"
      }
    },
    {
      "cell_type": "markdown",
      "source": [
        "# ***Let's Begin !***"
      ],
      "metadata": {
        "id": "O_i_v8NEhb9l"
      }
    },
    {
      "cell_type": "markdown",
      "source": [
        "## ***1. Know Your Data***"
      ],
      "metadata": {
        "id": "HhfV-JJviCcP"
      }
    },
    {
      "cell_type": "markdown",
      "source": [
        "### Import Libraries"
      ],
      "metadata": {
        "id": "Y3lxredqlCYt"
      }
    },
    {
      "cell_type": "code",
      "source": [
        "# Import Libraries\n",
        "import pandas as pd\n",
        "import numpy as np\n",
        "import matplotlib.pyplot as plt\n",
        "import seaborn as sns\n",
        "import plotly.express as px\n",
        "from wordcloud import WordCloud"
      ],
      "metadata": {
        "id": "M8Vqi-pPk-HR"
      },
      "execution_count": null,
      "outputs": []
    },
    {
      "cell_type": "markdown",
      "source": [
        "### Dataset Loading"
      ],
      "metadata": {
        "id": "3RnN4peoiCZX"
      }
    },
    {
      "cell_type": "code",
      "source": [
        "# Load Dataset\n",
        "from google.colab import drive\n",
        "drive.mount('/content/drive/')"
      ],
      "metadata": {
        "id": "4CkvbW_SlZ_R"
      },
      "execution_count": null,
      "outputs": []
    },
    {
      "cell_type": "markdown",
      "source": [
        "### Dataset First View"
      ],
      "metadata": {
        "id": "x71ZqKXriCWQ"
      }
    },
    {
      "cell_type": "code",
      "source": [
        "# Dataset First Look\n",
        "data_path = \"/content/drive/MyDrive/Data Science/AlmaBetter Projects/Python project 2/\"\n",
        "\n",
        "# Loading the Global Terrorism Dataset\n",
        "data = pd.read_csv(data_path + 'Global Terrorism Data.csv', encoding='latin-1')\n",
        "data.head()"
      ],
      "metadata": {
        "id": "Wa9afNL0lpjp"
      },
      "execution_count": null,
      "outputs": []
    },
    {
      "cell_type": "markdown",
      "source": [
        "### Dataset Rows & Columns count"
      ],
      "metadata": {
        "id": "7hBIi_osiCS2"
      }
    },
    {
      "cell_type": "code",
      "source": [
        "# Dataset Rows & Columns count\n",
        "rows, cols = data.shape\n",
        "print(f'There are {rows} rows and {cols} columns in the dataset.')"
      ],
      "metadata": {
        "id": "Kllu7SJgmLij"
      },
      "execution_count": null,
      "outputs": []
    },
    {
      "cell_type": "markdown",
      "source": [
        "### Dataset Information"
      ],
      "metadata": {
        "id": "JlHwYmJAmNHm"
      }
    },
    {
      "cell_type": "code",
      "source": [
        "# Dataset Info\n",
        "data.info()"
      ],
      "metadata": {
        "id": "e9hRXRi6meOf"
      },
      "execution_count": null,
      "outputs": []
    },
    {
      "cell_type": "markdown",
      "source": [
        "#### Duplicate Values"
      ],
      "metadata": {
        "id": "35m5QtbWiB9F"
      }
    },
    {
      "cell_type": "code",
      "source": [
        "# Dataset Duplicate Value Count\n",
        "duplicate_rows = data.duplicated().sum()\n",
        "\n",
        "print(f'There are {duplicate_rows} duplicate_rows in the dataset')"
      ],
      "metadata": {
        "id": "1sLdpKYkmox0"
      },
      "execution_count": null,
      "outputs": []
    },
    {
      "cell_type": "markdown",
      "source": [
        "#### Missing Values/Null Values"
      ],
      "metadata": {
        "id": "PoPl-ycgm1ru"
      }
    },
    {
      "cell_type": "code",
      "source": [
        "# Missing Values/Null Values Count\n",
        "missing_values = data.isnull().sum()\n",
        "print(missing_values)"
      ],
      "metadata": {
        "id": "GgHWkxvamxVg"
      },
      "execution_count": null,
      "outputs": []
    },
    {
      "cell_type": "code",
      "source": [
        "# Missingno matrix or the seaborn heatmap can be used.\n",
        "# Seaborn heatmap is used.\n",
        "# Visualizing the missing values\n",
        "# Plot a heatmap of missing values\n",
        "plt.figure(figsize=(10, 6))\n",
        "sns.heatmap(data.isnull(), cbar=False, cmap='viridis')\n",
        "plt.title('Missing Values Heatmap')\n",
        "plt.show()"
      ],
      "metadata": {
        "id": "3q5wnI3om9sJ"
      },
      "execution_count": null,
      "outputs": []
    },
    {
      "cell_type": "markdown",
      "source": [
        "### What did you know about your dataset?"
      ],
      "metadata": {
        "id": "H0kj-8xxnORC"
      }
    },
    {
      "cell_type": "code",
      "source": [
        "# Dataset Size\n",
        "print(\"Dataset Size:\", len(data))\n",
        "\n",
        "# Feature Quantity\n",
        "print(\"Number of Features:\", len(data.columns))\n",
        "\n",
        "# Data Types\n",
        "print(\"Data Types:\")\n",
        "print(data.dtypes.value_counts())\n",
        "\n",
        "# Memory Usage\n",
        "print(\"Memory Usage:\")\n",
        "print(data.info(memory_usage='deep'))\n",
        "\n",
        "# Missing Values\n",
        "print(\"Missing Values:\")\n",
        "missing_values = data.isnull().sum()\n",
        "print(missing_values[missing_values > 0].sort_values(ascending=False))"
      ],
      "metadata": {
        "id": "RWIzyXvWyar9"
      },
      "execution_count": null,
      "outputs": []
    },
    {
      "cell_type": "markdown",
      "source": [
        "- **Dataset Size:** The dataset is quite large, containing 181,691 entries or rows.\n",
        "\n",
        "- **Feature Quantity:** The dataset contains 135 features or columns.\n",
        "\n",
        "- **Data Types:** The dataset has a mix of data types. There are 55 features with floating-point numbers (float64), 22 features with integers (int64), and 58 features with objects (object). The object datatype in pandas typically means the column contains string (text) data.\n",
        "\n",
        "- **Memory Usage:** The dataset uses over 626.8 MB of memory.\n",
        "\n",
        "- **Missing Values:** There are some columns with a large number of missing values. For example, the 'gsubname3' column has 181,671 missing values, 'weapsubtype4' and 'weapsubtype4_txt' columns have 181,621 missing values each, 'weaptype4' and 'weaptype4_txt' columns have 181,618 missing values each. However, several columns do not have any missing values, such as 'eventid', 'iyear', 'imonth', 'iday', 'INT_LOG', 'INT_IDEO', 'INT_MISC', and 'INT_ANY'. There are also columns like 'guncertain1' with 380 missing values, 'ishostkid' with 178 missing values, 'specificity' with 6 missing values, 'doubtterr' and 'multiple' with 1 missing value each."
      ],
      "metadata": {
        "id": "gfoNAAC-nUe_"
      }
    },
    {
      "cell_type": "markdown",
      "source": [
        "## ***2. Understanding Your Variables***"
      ],
      "metadata": {
        "id": "nA9Y7ga8ng1Z"
      }
    },
    {
      "cell_type": "code",
      "source": [
        "# Dataset Columns\n",
        "columns = data.columns\n",
        "\n",
        "print(\"Columns in the dataset\")\n",
        "\n",
        "for column in columns:\n",
        "  print(column)"
      ],
      "metadata": {
        "id": "j7xfkqrt5Ag5"
      },
      "execution_count": null,
      "outputs": []
    },
    {
      "cell_type": "code",
      "source": [
        "# Dataset Describe\n",
        "summary = data.describe()\n",
        "\n",
        "print(summary)"
      ],
      "metadata": {
        "id": "DnOaZdaE5Q5t"
      },
      "execution_count": null,
      "outputs": []
    },
    {
      "cell_type": "markdown",
      "source": [
        "### Variables Description"
      ],
      "metadata": {
        "id": "PBTbrJXOngz2"
      }
    },
    {
      "cell_type": "markdown",
      "source": [
        "**eventid**: A unique identifier for each terrorist incident.\n",
        "\n",
        "**iyear, imonth, iday**: Date components of the incident, indicating the year, month, and day, respectively.\n",
        "\n",
        "**country, country_txt**: Numeric and textual representations of the country where the incident occurred.\n",
        "\n",
        "**region, region_txt**: Numeric and textual representations of the region where the incident occurred.\n",
        "\n",
        "**provstate**: The name or abbreviation of the province or state where the incident occurred.\n",
        "\n",
        "**city**: The name of the city or location where the incident occurred.\n",
        "\n",
        "**attacktype1, attacktype1_txt**: Numeric and textual representations of the primary method of attack.\n",
        "\n",
        "**targtype1, targtype1_txt**: Numeric and textual representations of the primary target type.\n",
        "\n",
        "**weaptype1, weaptype1_txt**: Numeric and textual representations of the primary weapon type used.\n",
        "\n",
        "**nkill**: Number of confirmed kills.\n",
        "\n",
        "**nwound**: Number of confirmed injuries.\n",
        "\n",
        "**gname**: The name of the terrorist group responsible for the incident.\n",
        "\n",
        "**summary**: A brief description or summary of the incident.\n",
        "\n",
        "**motive**: The perceived motive or reason behind the terrorist incident.\n",
        "\n",
        "**related**: Information on related incidents.\n",
        "\n",
        "**ishostkid**: Indicates whether hostages were taken (1 if hostages taken, 0 if not)."
      ],
      "metadata": {
        "id": "aJV4KIxSnxay"
      }
    },
    {
      "cell_type": "markdown",
      "source": [
        "### Check Unique Values for each variable."
      ],
      "metadata": {
        "id": "u3PMJOP6ngxN"
      }
    },
    {
      "cell_type": "code",
      "source": [
        "# Check Unique Values for each variable.\n",
        "unique_countries = data['country_txt'].unique()\n",
        "print(unique_countries)\n",
        "\n",
        "print()  #this will leave gap\n",
        "\n",
        "unique_year = data['iyear'].unique()\n",
        "print(unique_year)"
      ],
      "metadata": {
        "id": "zms12Yq5n-jE"
      },
      "execution_count": null,
      "outputs": []
    },
    {
      "cell_type": "markdown",
      "source": [
        "## 3. ***Data Wrangling***"
      ],
      "metadata": {
        "id": "dauF4eBmngu3"
      }
    },
    {
      "cell_type": "markdown",
      "source": [
        "### Data Wrangling Code"
      ],
      "metadata": {
        "id": "bKJF3rekwFvQ"
      }
    },
    {
      "cell_type": "code",
      "source": [
        "# Write your code to make your dataset analysis ready.\n",
        "print(data.isnull().sum())"
      ],
      "metadata": {
        "id": "wk-9a2fpoLcV"
      },
      "execution_count": null,
      "outputs": []
    },
    {
      "cell_type": "code",
      "source": [
        "pd.set_option('display.max_rows', None)\n",
        "print(data.dtypes)"
      ],
      "metadata": {
        "id": "ywDw45N434yK"
      },
      "execution_count": null,
      "outputs": []
    },
    {
      "cell_type": "code",
      "source": [
        "pd.reset_option('display.max_rows')"
      ],
      "metadata": {
        "id": "ItSd6x0U3_2j"
      },
      "execution_count": null,
      "outputs": []
    },
    {
      "cell_type": "code",
      "source": [
        "data.rename(columns={'iyear':'Year','imonth':'Month','iday':'Day','country_txt':'Country','provstate':'state','region_txt':'Region','attacktype1_txt':'AttackType','target1':'Target','nkill':'Killed','nwound':'Wounded','summary':'Summary','gname':'Group','targtype1_txt':'Target_type','weaptype1_txt':'Weapon_type','motive':'Motive'},inplace=True)"
      ],
      "metadata": {
        "id": "8sKfBfK-4Dub"
      },
      "execution_count": null,
      "outputs": []
    },
    {
      "cell_type": "code",
      "source": [
        "data=data[['Year','Month','Day','Country','state','Region','city','latitude','longitude','AttackType','Killed','Wounded','Target','Summary','Group','Target_type','Weapon_type','Motive']]"
      ],
      "metadata": {
        "id": "IXnr7Tiz4RGA"
      },
      "execution_count": null,
      "outputs": []
    },
    {
      "cell_type": "code",
      "source": [
        "data.head()"
      ],
      "metadata": {
        "id": "aYyc5uq34hO5"
      },
      "execution_count": null,
      "outputs": []
    },
    {
      "cell_type": "code",
      "source": [
        "print(data.dtypes)"
      ],
      "metadata": {
        "id": "Utkkp1Qz33e_"
      },
      "execution_count": null,
      "outputs": []
    },
    {
      "cell_type": "markdown",
      "source": [
        "### What all manipulations have you done and insights you found?"
      ],
      "metadata": {
        "id": "MSa1f5Uengrz"
      }
    },
    {
      "cell_type": "markdown",
      "source": [
        "### Given the dataset's extensive nature with 135 columns, which may be overwhelming for comprehensive learning, the decision has been made to enhance clarity and focus by renaming the columns for better understanding, subsequently extracting only the necessary features for streamlined analysis."
      ],
      "metadata": {
        "id": "LbyXE7I1olp8"
      }
    },
    {
      "cell_type": "markdown",
      "source": [
        "## ***4. Data Vizualization, Storytelling & Experimenting with charts : Understand the relationships between variables***"
      ],
      "metadata": {
        "id": "GF8Ens_Soomf"
      }
    },
    {
      "cell_type": "markdown",
      "source": [
        "#### Chart - 1"
      ],
      "metadata": {
        "id": "0wOQAZs5pc--"
      }
    },
    {
      "cell_type": "code",
      "source": [
        "# Chart - 1 visualization with custom color\n",
        "plt.figure(figsize=(12, 6))\n",
        "attacks_per_year = data['Year'].value_counts().sort_index()\n",
        "sns.lineplot(x=attacks_per_year.index, y=attacks_per_year.values)\n",
        "plt.title('Number of Terrorist Attacks Over the Years')\n",
        "plt.xlabel('Year')\n",
        "plt.ylabel('Number of Attacks')\n",
        "plt.show()"
      ],
      "metadata": {
        "id": "7v_ESjsspbW7"
      },
      "execution_count": null,
      "outputs": []
    },
    {
      "cell_type": "markdown",
      "source": [
        "##### 1. Why did you pick the specific chart?"
      ],
      "metadata": {
        "id": "K5QZ13OEpz2H"
      }
    },
    {
      "cell_type": "markdown",
      "source": [
        "**The line chart was chosen to represent the number of terrorist attacks over the years. A line chart is suitable for showing trends and patterns over a continuous variable, in this case, the progression of attacks over different years.**"
      ],
      "metadata": {
        "id": "XESiWehPqBRc"
      }
    },
    {
      "cell_type": "markdown",
      "source": [
        "##### 2. What is/are the insight(s) found from the chart?"
      ],
      "metadata": {
        "id": "lQ7QKXXCp7Bj"
      }
    },
    {
      "cell_type": "markdown",
      "source": [
        "**The line chart visually depicts the trend in the number of terrorist attacks over the years. It helps in identifying whether there is a significant increase, decrease, or any noticeable pattern in the frequency of attacks.**"
      ],
      "metadata": {
        "id": "C_j1G7yiqdRP"
      }
    },
    {
      "cell_type": "markdown",
      "source": [
        "##### 3. Will the gained insights help creating a positive business impact?\n",
        "Are there any insights that lead to negative growth? Justify with specific reason."
      ],
      "metadata": {
        "id": "448CDAPjqfQr"
      }
    },
    {
      "cell_type": "markdown",
      "source": [
        "**The insights gained from this chart can be valuable for businesses, governments, or organizations involved in security and risk management. Understanding the trend in terrorist attacks over the years allows for better preparation, resource allocation, and planning to address security concerns. It can contribute to the development of strategies aimed at preventing and mitigating the impact of terrorist incidents.**\n",
        "\n",
        "**For businesses operating in regions affected by terrorism, this information can be crucial for risk assessment and business continuity planning. It may influence decisions related to security investments, insurance coverage, and overall risk management.**\n",
        "\n",
        "**Government agencies can use this data to enhance security measures, allocate resources effectively, and develop policies to counter terrorism. The insights gained can contribute to the formulation of evidence-based counterterrorism strategies.**"
      ],
      "metadata": {
        "id": "3cspy4FjqxJW"
      }
    },
    {
      "cell_type": "markdown",
      "source": [
        "#### Chart - 2"
      ],
      "metadata": {
        "id": "4Of9eVA-YrdM"
      }
    },
    {
      "cell_type": "code",
      "source": [
        "pd.crosstab(data.Year, data.Region).plot(kind='area',figsize = (15,6))\n",
        "plt.title('Terrorist Activities by Region in each Year')\n",
        "plt.ylabel('Number of Attacks')\n",
        "plt.show()"
      ],
      "metadata": {
        "id": "irlUoxc8YrdO"
      },
      "execution_count": null,
      "outputs": []
    },
    {
      "cell_type": "markdown",
      "source": [
        "##### 1. Why did you pick the specific chart?"
      ],
      "metadata": {
        "id": "iky9q4vBYrdO"
      }
    },
    {
      "cell_type": "markdown",
      "source": [
        "**The area plot depicting terrorist activities by region over each year was chosen. This chart is suitable for visualizing the trends and patterns of terrorist activities in different regions over time. The stacked areas provide a sense of the overall volume and the relative contribution of each region to the total.**"
      ],
      "metadata": {
        "id": "aJRCwT6DYrdO"
      }
    },
    {
      "cell_type": "markdown",
      "source": [
        "##### 2. What is/are the insight(s) found from the chart?"
      ],
      "metadata": {
        "id": "F6T5p64dYrdO"
      }
    },
    {
      "cell_type": "markdown",
      "source": [
        "**The chart offers insights into how terrorist activities have evolved over the years across different regions. By observing the areas under each curve, one can identify regions that have consistently experienced high levels of terrorist activities and those that have seen fluctuations. It also helps in comparing the overall distribution of attacks across regions.**"
      ],
      "metadata": {
        "id": "Xx8WAJvtYrdO"
      }
    },
    {
      "cell_type": "markdown",
      "source": [
        "##### 3. Will the gained insights help creating a positive business impact?\n",
        "Are there any insights that lead to negative growth? Justify with specific reason."
      ],
      "metadata": {
        "id": "y-Ehk30pYrdP"
      }
    },
    {
      "cell_type": "markdown",
      "source": [
        "**The insights gained from this chart can be beneficial for various stakeholders, including government agencies, security organizations, and businesses operating in regions prone to terrorism.**\n",
        "\n",
        "**Government Agencies: Government bodies can use this information to allocate resources effectively and prioritize regions that require heightened security measures. It aids in the development of regional-specific counterterrorism strategies.**\n",
        "\n",
        "**Security Organizations: Private security firms can tailor their services based on the historical patterns of terrorist activities in different regions. Understanding the dynamics allows for better preparation and risk mitigation strategies.**\n",
        "\n",
        "**Businesses: Companies operating in regions with a history of terrorism can use this information for risk assessment and business continuity planning. It helps in identifying regions with higher security risks, allowing businesses to implement targeted security measures.**"
      ],
      "metadata": {
        "id": "jLNxxz7MYrdP"
      }
    },
    {
      "cell_type": "markdown",
      "source": [
        "#### Chart - 3"
      ],
      "metadata": {
        "id": "OH-pJp9IphqM"
      }
    },
    {
      "cell_type": "code",
      "source": [
        "# Filter the data for the top 10 years\n",
        "top_10_years = data['Year'].value_counts().head(10).index\n",
        "filtered_data = data[data['Year'].isin(top_10_years)]\n",
        "\n",
        "# Group by year and calculate the sum of killed and wounded\n",
        "casualties_per_year = filtered_data.groupby('Year')[['Killed', 'Wounded']].sum()\n",
        "\n",
        "# Create a stacked bar chart\n",
        "casualties_per_year.plot(kind='bar', stacked=True, figsize=(12, 6), colormap='viridis')\n",
        "plt.title('Casualties (Killed and Wounded) in the Top 10 Years')\n",
        "plt.xlabel('Year')\n",
        "plt.ylabel('Number of Casualties')\n",
        "plt.show()\n"
      ],
      "metadata": {
        "id": "kuRf4wtuphqN"
      },
      "execution_count": null,
      "outputs": []
    },
    {
      "cell_type": "markdown",
      "source": [
        "##### 1. Why did you pick the specific chart?"
      ],
      "metadata": {
        "id": "bbFf2-_FphqN"
      }
    },
    {
      "cell_type": "markdown",
      "source": [
        "**The stacked bar chart was chosen to represent the casualties (both killed and wounded) over the top 10 years. This chart is effective for visualizing the total impact of terrorist attacks on casualties over a specific period, broken down by the number of killed and wounded individuals.**"
      ],
      "metadata": {
        "id": "loh7H2nzphqN"
      }
    },
    {
      "cell_type": "markdown",
      "source": [
        "##### 2. What is/are the insight(s) found from the chart?"
      ],
      "metadata": {
        "id": "dFRdK-mTR0GR"
      }
    },
    {
      "cell_type": "markdown",
      "source": [
        "**The chart provides a visual overview of the casualties (killed and wounded) caused by terrorist attacks in the top 10 years. The stacked bars show the contribution of each year to the total number of casualties, allowing for comparison and identification of the years with the highest impact.**"
      ],
      "metadata": {
        "id": "l9cwoW6fwFHm"
      }
    },
    {
      "cell_type": "markdown",
      "source": [
        "##### 3. Will the gained insights help creating a positive business impact?\n",
        "Are there any insights that lead to negative growth? Justify with specific reason."
      ],
      "metadata": {
        "id": "Seke61FWphqN"
      }
    },
    {
      "cell_type": "markdown",
      "source": [
        "**The insights gained from this chart can be valuable for various stakeholders, including government agencies, security organizations, and businesses operating in regions affected by terrorism.**\n",
        "\n",
        "**Government Agencies: Security agencies can use this information to assess the overall impact of terrorist attacks on public safety. It helps in resource allocation, emergency response planning, and the development of policies aimed at reducing casualties.**\n",
        "\n",
        "**Security Organizations: Private security firms can tailor their services based on the historical patterns of casualties. Understanding the trends allows for better preparation and risk mitigation strategies to minimize the impact of future attacks.**\n",
        "\n",
        "**Businesses: Companies operating in regions with a high risk of terrorism can use this information for risk assessment and business continuity planning. It helps in understanding the potential impact on employees and infrastructure, allowing businesses to implement measures to enhance safety.**"
      ],
      "metadata": {
        "id": "DW4_bGpfphqN"
      }
    },
    {
      "cell_type": "markdown",
      "source": [
        "#### Chart - 4"
      ],
      "metadata": {
        "id": "N3xB-wv2wXve"
      }
    },
    {
      "cell_type": "code",
      "source": [
        "# Get the top 5 target types\n",
        "top_target_types = data['Target_type'].value_counts().nlargest(5)\n",
        "\n",
        "# Create a pie chart for the distribution of the top 10 target types\n",
        "plt.figure(figsize=(8, 8))\n",
        "top_target_types.plot.pie(autopct='%1.1f%%', colors=sns.color_palette('viridis'), startangle=90)\n",
        "plt.title('Distribution of Top 5 Target Types')\n",
        "plt.ylabel('')\n",
        "plt.show()\n"
      ],
      "metadata": {
        "id": "G3xsc3OYwXvo"
      },
      "execution_count": null,
      "outputs": []
    },
    {
      "cell_type": "markdown",
      "source": [
        "##### 1. Why did you pick the specific chart?"
      ],
      "metadata": {
        "id": "lBRfXZfhwXvp"
      }
    },
    {
      "cell_type": "markdown",
      "source": [
        "**A pie chart was chosen to represent the distribution of the top 5 target types. Pie charts are effective for displaying the proportion of different categories within a whole. In this case, it helps visualize the percentage distribution of attacks across the selected target types.**"
      ],
      "metadata": {
        "id": "8Gg34lovwXvp"
      }
    },
    {
      "cell_type": "markdown",
      "source": [
        "##### 2. What is/are the insight(s) found from the chart?"
      ],
      "metadata": {
        "id": "pVSXVsZ8wXvp"
      }
    },
    {
      "cell_type": "markdown",
      "source": [
        "**The chart provides insights into the proportion of terrorist attacks targeting different types of entities. By looking at the slices of the pie, one can quickly grasp the relative significance of each target type within the top 5.**"
      ],
      "metadata": {
        "id": "2UyFuwEZwXvq"
      }
    },
    {
      "cell_type": "markdown",
      "source": [
        "##### 3. Will the gained insights help creating a positive business impact?\n",
        "Are there any insights that lead to negative growth? Justify with specific reason."
      ],
      "metadata": {
        "id": "vjJG_R0PwXvq"
      }
    },
    {
      "cell_type": "markdown",
      "source": [
        "**Security Planning: The insights gained from this chart can be valuable for security planning and resource allocation. Understanding which types of targets are more frequently attacked allows for the implementation of targeted security measures.**\n",
        "\n",
        "**Risk Management: Businesses and organizations can use this information for risk assessment. Knowing the types of targets that are more susceptible to attacks helps in developing risk mitigation strategies.**\n",
        "\n",
        "**Public Awareness: The information from this chart can also contribute to public awareness and education. By understanding the common targets, the public, as well as relevant authorities, can be better prepared and vigilant.**"
      ],
      "metadata": {
        "id": "3QqLDOx7wXvq"
      }
    },
    {
      "cell_type": "markdown",
      "source": [
        "#### Chart - 5"
      ],
      "metadata": {
        "id": "oZCe_Y-CwYYU"
      }
    },
    {
      "cell_type": "code",
      "source": [
        "# Create a word cloud for the most common target keywords\n",
        "plt.figure(figsize=(12, 8))\n",
        "wordcloud = WordCloud(width=800, height=400, background_color='white').generate(' '.join(data['Target'].dropna()))\n",
        "plt.imshow(wordcloud, interpolation='bilinear')\n",
        "plt.title('Word Cloud: Most Common Target Keywords')\n",
        "plt.axis('off')\n",
        "plt.show()\n"
      ],
      "metadata": {
        "id": "gKYgKPuxwYYU"
      },
      "execution_count": null,
      "outputs": []
    },
    {
      "cell_type": "markdown",
      "source": [
        "##### 1. Why did you pick the specific chart?"
      ],
      "metadata": {
        "id": "eRBn5OBrwYYV"
      }
    },
    {
      "cell_type": "markdown",
      "source": [
        "**The word cloud chart is chosen to visually represent the most common target keywords in a textual dataset. It provides a quick and intuitive overview of the prominent words by emphasizing the size of the words based on their frequency.**"
      ],
      "metadata": {
        "id": "0aZpyYCewYYV"
      }
    },
    {
      "cell_type": "markdown",
      "source": [
        "##### 2. What is/are the insight(s) found from the chart?"
      ],
      "metadata": {
        "id": "5wyjPXe7wYYV"
      }
    },
    {
      "cell_type": "markdown",
      "source": [
        "**The word cloud reveals the words or phrases that occur most frequently in the \"Target\" column of the dataset. Larger words in the cloud indicate higher frequency. It helps identify patterns, trends, or recurring themes in the targets of terrorist attacks.**"
      ],
      "metadata": {
        "id": "YyZ8AmPOwYYV"
      }
    },
    {
      "cell_type": "markdown",
      "source": [
        "##### 3. Will the gained insights help creating a positive business impact?\n",
        "Are there any insights that lead to negative growth? Justify with specific reason."
      ],
      "metadata": {
        "id": "1aEPkjQzwYYV"
      }
    },
    {
      "cell_type": "markdown",
      "source": [
        "**The insights gained from the word cloud can be valuable for understanding the common targets of terrorist attacks. This information might be useful for businesses or organizations involved in risk management, security, or international affairs. It can aid in making informed decisions related to security measures, threat assessments, and preparedness strategies, potentially contributing to a safer environment.**"
      ],
      "metadata": {
        "id": "4wCG_qetwYYW"
      }
    },
    {
      "cell_type": "markdown",
      "source": [
        "**I am truly grateful for the opportunity to share my insights and knowledge.**"
      ],
      "metadata": {
        "id": "VD2Ea1iHtPQY"
      }
    }
  ]
}